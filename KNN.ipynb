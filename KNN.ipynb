{
 "cells": [
  {
   "cell_type": "markdown",
   "id": "33f984d7",
   "metadata": {},
   "source": [
    "# K- Nearest Neighbour"
   ]
  },
  {
   "cell_type": "code",
   "execution_count": 18,
   "id": "828224b9",
   "metadata": {},
   "outputs": [],
   "source": [
    "import numpy as np\n",
    "import matplotlib.pyplot as plt\n",
    "import pandas as pd"
   ]
  },
  {
   "cell_type": "code",
   "execution_count": 19,
   "id": "6ef73b3b",
   "metadata": {},
   "outputs": [
    {
     "name": "stdout",
     "output_type": "stream",
     "text": [
      "Features (X): [[1.9e+01 1.9e+04]\n",
      " [3.5e+01 2.0e+04]\n",
      " [2.6e+01 4.3e+04]\n",
      " [2.7e+01 5.7e+04]\n",
      " [1.9e+01 7.6e+04]]\n",
      "Labels (y): [0. 0. 0. 0. 0.]\n"
     ]
    }
   ],
   "source": [
    "import csv\n",
    "\n",
    "def read_csv_manual(file_path):\n",
    "    X = []\n",
    "    y = []\n",
    "    \n",
    "    with open(file_path, 'r') as file:\n",
    "        reader = csv.reader(file)\n",
    "        next(reader)\n",
    "        for row in reader:\n",
    "            features = [float(value) for value in row[:-1]]\n",
    "            label = float(row[-1]) \n",
    "            X.append(features)\n",
    "            y.append(label)\n",
    "    \n",
    "    return X, y\n",
    "file_path = 'Social_Network_Ads (1).csv' \n",
    "X, y = read_csv_manual(file_path)\n",
    "X = np.array(X)\n",
    "y = np.array(y)\n",
    "print(\"Features (X):\", X[:5])\n",
    "print(\"Labels (y):\", y[:5])  \n"
   ]
  },
  {
   "cell_type": "code",
   "execution_count": 20,
   "id": "e5376124",
   "metadata": {},
   "outputs": [
    {
     "name": "stdout",
     "output_type": "stream",
     "text": [
      "Training set size: 300\n",
      "Testing set size: 100\n"
     ]
    }
   ],
   "source": [
    "import random\n",
    "def train_test_split_manual(X, y, test_size=0.25, random_state=None):\n",
    "    if random_state is not None:\n",
    "        random.seed(random_state)  \n",
    "    combined = list(zip(X, y))\n",
    "    random.shuffle(combined)\n",
    "    X, y = zip(*combined)\n",
    "    \n",
    "    X = list(X)\n",
    "    y = list(y)\n",
    "    split_index = int(len(X) * (1 - test_size))\n",
    "    X_train = X[:split_index]\n",
    "    X_test = X[split_index:]\n",
    "    y_train = y[:split_index]\n",
    "    y_test = y[split_index:]\n",
    "    \n",
    "    return X_train, X_test, y_train, y_test\n",
    "file_path = 'Social_Network_Ads (1).csv'  \n",
    "X, y = read_csv_manual(file_path)\n",
    "X_train, X_test, y_train, y_test = train_test_split_manual(X, y, test_size=0.25, random_state=0)\n",
    "print(\"Training set size:\", len(X_train))\n",
    "print(\"Testing set size:\", len(X_test))\n"
   ]
  },
  {
   "cell_type": "code",
   "execution_count": 21,
   "id": "15b600e3",
   "metadata": {},
   "outputs": [
    {
     "name": "stdout",
     "output_type": "stream",
     "text": [
      "[[26.0, 15000.0], [48.0, 33000.0], [27.0, 84000.0], [19.0, 76000.0], [24.0, 58000.0], [23.0, 66000.0], [33.0, 28000.0], [46.0, 117000.0], [31.0, 66000.0], [50.0, 36000.0], [29.0, 43000.0], [19.0, 26000.0], [22.0, 63000.0], [36.0, 60000.0], [31.0, 18000.0], [35.0, 73000.0], [41.0, 79000.0], [25.0, 22000.0], [41.0, 72000.0], [48.0, 41000.0], [37.0, 79000.0], [35.0, 71000.0], [37.0, 80000.0], [48.0, 96000.0], [57.0, 122000.0], [40.0, 57000.0], [26.0, 84000.0], [31.0, 68000.0], [46.0, 22000.0], [60.0, 102000.0], [44.0, 139000.0], [54.0, 108000.0], [37.0, 57000.0], [38.0, 61000.0], [27.0, 58000.0], [46.0, 74000.0], [51.0, 134000.0], [36.0, 50000.0], [39.0, 42000.0], [39.0, 61000.0], [40.0, 71000.0], [37.0, 93000.0], [45.0, 45000.0], [28.0, 59000.0], [55.0, 39000.0], [26.0, 16000.0], [35.0, 75000.0], [43.0, 133000.0], [48.0, 74000.0], [27.0, 96000.0], [34.0, 43000.0], [47.0, 49000.0], [45.0, 131000.0], [46.0, 41000.0], [57.0, 33000.0], [40.0, 57000.0], [48.0, 138000.0], [48.0, 90000.0], [42.0, 104000.0], [35.0, 72000.0], [37.0, 77000.0], [28.0, 89000.0], [58.0, 47000.0], [35.0, 61000.0], [47.0, 107000.0], [22.0, 18000.0], [55.0, 125000.0], [35.0, 79000.0], [37.0, 53000.0], [53.0, 104000.0], [32.0, 100000.0], [49.0, 28000.0], [36.0, 54000.0], [54.0, 26000.0], [36.0, 118000.0], [30.0, 62000.0], [36.0, 33000.0], [20.0, 49000.0], [19.0, 70000.0], [30.0, 107000.0], [40.0, 107000.0], [60.0, 83000.0], [47.0, 47000.0], [41.0, 72000.0], [29.0, 28000.0], [26.0, 43000.0], [40.0, 59000.0], [30.0, 80000.0], [37.0, 80000.0], [27.0, 20000.0], [40.0, 78000.0], [42.0, 108000.0], [26.0, 81000.0], [37.0, 137000.0], [26.0, 72000.0], [59.0, 143000.0], [38.0, 112000.0], [40.0, 72000.0], [35.0, 60000.0], [37.0, 72000.0], [26.0, 32000.0], [28.0, 87000.0], [23.0, 82000.0], [28.0, 55000.0], [38.0, 80000.0], [35.0, 55000.0], [33.0, 69000.0], [35.0, 22000.0], [47.0, 30000.0], [40.0, 60000.0], [20.0, 82000.0], [37.0, 52000.0], [24.0, 55000.0], [49.0, 65000.0], [35.0, 20000.0], [42.0, 73000.0], [26.0, 15000.0], [35.0, 59000.0], [35.0, 91000.0], [39.0, 42000.0], [25.0, 80000.0], [46.0, 23000.0], [51.0, 146000.0], [33.0, 31000.0], [41.0, 72000.0], [21.0, 72000.0], [33.0, 149000.0], [20.0, 86000.0], [59.0, 29000.0], [32.0, 135000.0], [35.0, 88000.0], [42.0, 65000.0], [35.0, 65000.0], [50.0, 44000.0], [58.0, 144000.0], [40.0, 142000.0], [42.0, 65000.0], [50.0, 20000.0], [39.0, 79000.0], [38.0, 50000.0], [48.0, 141000.0], [41.0, 71000.0], [27.0, 89000.0], [32.0, 86000.0], [49.0, 88000.0], [29.0, 75000.0], [35.0, 72000.0], [39.0, 59000.0], [42.0, 80000.0], [28.0, 79000.0], [60.0, 46000.0], [39.0, 134000.0], [39.0, 106000.0], [38.0, 71000.0], [55.0, 130000.0], [39.0, 77000.0], [23.0, 28000.0], [26.0, 35000.0], [38.0, 51000.0], [42.0, 54000.0], [28.0, 44000.0], [40.0, 57000.0], [42.0, 79000.0], [41.0, 45000.0], [33.0, 60000.0], [33.0, 113000.0], [46.0, 59000.0], [22.0, 81000.0], [42.0, 70000.0], [48.0, 119000.0], [27.0, 90000.0], [49.0, 28000.0], [46.0, 82000.0], [26.0, 52000.0], [31.0, 118000.0], [51.0, 23000.0], [36.0, 52000.0], [29.0, 43000.0], [35.0, 47000.0], [30.0, 89000.0], [27.0, 31000.0], [26.0, 80000.0], [29.0, 148000.0], [28.0, 37000.0], [37.0, 78000.0], [52.0, 21000.0], [26.0, 17000.0], [31.0, 58000.0], [52.0, 150000.0], [53.0, 82000.0], [34.0, 72000.0], [59.0, 42000.0], [27.0, 57000.0], [28.0, 84000.0], [59.0, 76000.0], [39.0, 122000.0], [41.0, 80000.0], [31.0, 74000.0], [59.0, 83000.0], [23.0, 63000.0], [58.0, 23000.0], [43.0, 112000.0], [27.0, 17000.0], [42.0, 149000.0], [49.0, 74000.0], [18.0, 82000.0], [30.0, 79000.0], [29.0, 83000.0], [26.0, 118000.0], [24.0, 23000.0], [30.0, 15000.0], [24.0, 89000.0], [49.0, 89000.0], [33.0, 41000.0], [30.0, 116000.0], [49.0, 86000.0], [39.0, 96000.0], [27.0, 88000.0], [31.0, 34000.0], [46.0, 79000.0], [31.0, 76000.0], [26.0, 80000.0], [41.0, 59000.0], [42.0, 64000.0], [50.0, 88000.0], [49.0, 39000.0], [39.0, 71000.0], [35.0, 50000.0], [22.0, 27000.0], [18.0, 86000.0], [52.0, 90000.0], [23.0, 48000.0], [45.0, 26000.0], [45.0, 32000.0], [35.0, 58000.0], [47.0, 20000.0], [46.0, 32000.0], [26.0, 86000.0], [19.0, 25000.0], [37.0, 146000.0], [34.0, 43000.0], [53.0, 143000.0], [29.0, 80000.0], [37.0, 75000.0], [20.0, 82000.0], [35.0, 23000.0], [38.0, 55000.0], [40.0, 61000.0], [48.0, 35000.0], [42.0, 90000.0], [60.0, 42000.0], [35.0, 50000.0], [31.0, 89000.0], [27.0, 58000.0], [47.0, 23000.0], [46.0, 28000.0], [57.0, 74000.0], [28.0, 32000.0], [39.0, 75000.0], [36.0, 63000.0], [25.0, 87000.0], [47.0, 113000.0], [41.0, 60000.0], [32.0, 18000.0], [39.0, 73000.0], [45.0, 22000.0], [57.0, 26000.0], [32.0, 18000.0], [46.0, 88000.0], [60.0, 34000.0], [46.0, 96000.0], [48.0, 30000.0], [28.0, 85000.0], [24.0, 84000.0], [38.0, 61000.0], [47.0, 50000.0], [28.0, 59000.0], [25.0, 33000.0], [47.0, 105000.0], [35.0, 75000.0], [34.0, 115000.0], [35.0, 97000.0], [32.0, 117000.0], [47.0, 51000.0], [35.0, 108000.0], [32.0, 117000.0], [53.0, 72000.0], [35.0, 147000.0], [19.0, 85000.0], [47.0, 43000.0], [39.0, 71000.0], [36.0, 75000.0], [37.0, 74000.0], [18.0, 68000.0], [47.0, 144000.0], [35.0, 39000.0], [41.0, 52000.0], [40.0, 65000.0], [48.0, 29000.0], [18.0, 52000.0]]\n"
     ]
    }
   ],
   "source": [
    "print(X_train)"
   ]
  },
  {
   "cell_type": "code",
   "execution_count": 22,
   "id": "c3b8bc00",
   "metadata": {},
   "outputs": [
    {
     "name": "stdout",
     "output_type": "stream",
     "text": [
      "[0.0, 1.0, 0.0, 0.0, 0.0, 0.0, 0.0, 1.0, 0.0, 1.0, 0.0, 0.0, 0.0, 0.0, 0.0, 0.0, 0.0, 0.0, 0.0, 1.0, 1.0, 0.0, 0.0, 1.0, 1.0, 0.0, 0.0, 0.0, 0.0, 1.0, 1.0, 1.0, 0.0, 0.0, 0.0, 0.0, 0.0, 0.0, 0.0, 0.0, 1.0, 1.0, 1.0, 0.0, 1.0, 0.0, 0.0, 0.0, 1.0, 1.0, 0.0, 1.0, 1.0, 1.0, 1.0, 0.0, 1.0, 1.0, 1.0, 0.0, 0.0, 0.0, 1.0, 0.0, 1.0, 0.0, 1.0, 0.0, 0.0, 1.0, 1.0, 1.0, 0.0, 1.0, 1.0, 0.0, 0.0, 0.0, 0.0, 1.0, 1.0, 1.0, 0.0, 0.0, 0.0, 0.0, 0.0, 0.0, 0.0, 0.0, 0.0, 1.0, 0.0, 1.0, 0.0, 1.0, 0.0, 0.0, 0.0, 0.0, 0.0, 0.0, 0.0, 0.0, 0.0, 0.0, 0.0, 0.0, 1.0, 0.0, 0.0, 0.0, 0.0, 0.0, 0.0, 1.0, 0.0, 0.0, 1.0, 0.0, 0.0, 1.0, 1.0, 0.0, 0.0, 0.0, 1.0, 0.0, 1.0, 1.0, 0.0, 0.0, 0.0, 0.0, 1.0, 1.0, 0.0, 1.0, 0.0, 0.0, 0.0, 0.0, 0.0, 0.0, 1.0, 0.0, 0.0, 0.0, 0.0, 0.0, 1.0, 1.0, 1.0, 0.0, 1.0, 0.0, 0.0, 0.0, 0.0, 0.0, 0.0, 0.0, 0.0, 0.0, 0.0, 0.0, 0.0, 0.0, 0.0, 1.0, 0.0, 1.0, 0.0, 0.0, 1.0, 1.0, 0.0, 0.0, 0.0, 0.0, 0.0, 0.0, 1.0, 0.0, 1.0, 1.0, 0.0, 0.0, 1.0, 1.0, 0.0, 0.0, 0.0, 0.0, 1.0, 1.0, 0.0, 0.0, 0.0, 0.0, 1.0, 1.0, 0.0, 1.0, 0.0, 0.0, 0.0, 0.0, 0.0, 0.0, 0.0, 0.0, 1.0, 0.0, 0.0, 1.0, 1.0, 0.0, 0.0, 1.0, 0.0, 0.0, 0.0, 0.0, 1.0, 1.0, 0.0, 0.0, 0.0, 0.0, 1.0, 0.0, 1.0, 1.0, 0.0, 1.0, 1.0, 0.0, 0.0, 1.0, 0.0, 1.0, 0.0, 0.0, 0.0, 0.0, 0.0, 0.0, 1.0, 1.0, 1.0, 0.0, 0.0, 0.0, 1.0, 1.0, 1.0, 0.0, 1.0, 0.0, 0.0, 1.0, 0.0, 0.0, 0.0, 1.0, 1.0, 0.0, 1.0, 1.0, 0.0, 1.0, 0.0, 0.0, 0.0, 1.0, 0.0, 0.0, 1.0, 0.0, 0.0, 1.0, 0.0, 1.0, 0.0, 1.0, 1.0, 1.0, 0.0, 0.0, 0.0, 0.0, 0.0, 0.0, 1.0, 0.0, 0.0, 0.0, 1.0, 0.0]\n"
     ]
    }
   ],
   "source": [
    "print(y_train)"
   ]
  },
  {
   "cell_type": "code",
   "execution_count": 23,
   "id": "be6141f9",
   "metadata": {},
   "outputs": [
    {
     "name": "stdout",
     "output_type": "stream",
     "text": [
      "[[24.0, 19000.0], [23.0, 20000.0], [35.0, 27000.0], [56.0, 104000.0], [54.0, 70000.0], [47.0, 25000.0], [35.0, 44000.0], [35.0, 25000.0], [29.0, 83000.0], [29.0, 61000.0], [35.0, 53000.0], [35.0, 57000.0], [37.0, 33000.0], [49.0, 36000.0], [42.0, 54000.0], [57.0, 60000.0], [56.0, 133000.0], [41.0, 30000.0], [58.0, 38000.0], [48.0, 131000.0], [42.0, 53000.0], [41.0, 87000.0], [38.0, 71000.0], [41.0, 63000.0], [36.0, 99000.0], [32.0, 120000.0], [20.0, 74000.0], [43.0, 129000.0], [40.0, 47000.0], [24.0, 55000.0], [44.0, 39000.0], [35.0, 77000.0], [35.0, 38000.0], [33.0, 51000.0], [25.0, 79000.0], [42.0, 80000.0], [52.0, 38000.0], [20.0, 23000.0], [40.0, 75000.0], [37.0, 55000.0], [39.0, 134000.0], [28.0, 123000.0], [21.0, 16000.0], [22.0, 55000.0], [41.0, 51000.0], [21.0, 88000.0], [48.0, 134000.0], [49.0, 141000.0], [19.0, 19000.0], [52.0, 138000.0], [38.0, 65000.0], [58.0, 101000.0], [27.0, 54000.0], [32.0, 150000.0], [59.0, 88000.0], [27.0, 137000.0], [21.0, 68000.0], [40.0, 75000.0], [36.0, 126000.0], [48.0, 33000.0], [37.0, 70000.0], [19.0, 21000.0], [42.0, 75000.0], [38.0, 50000.0], [25.0, 90000.0], [37.0, 144000.0], [31.0, 71000.0], [18.0, 44000.0], [37.0, 62000.0], [38.0, 59000.0], [29.0, 47000.0], [38.0, 113000.0], [30.0, 49000.0], [59.0, 130000.0], [24.0, 32000.0], [26.0, 30000.0], [34.0, 112000.0], [36.0, 125000.0], [53.0, 34000.0], [60.0, 42000.0], [30.0, 17000.0], [54.0, 104000.0], [30.0, 135000.0], [56.0, 60000.0], [34.0, 25000.0], [24.0, 27000.0], [58.0, 95000.0], [37.0, 71000.0], [45.0, 79000.0], [33.0, 43000.0], [41.0, 72000.0], [31.0, 15000.0], [52.0, 114000.0], [41.0, 52000.0], [36.0, 144000.0], [30.0, 87000.0], [45.0, 22000.0], [60.0, 108000.0], [47.0, 34000.0], [20.0, 36000.0]]\n"
     ]
    }
   ],
   "source": [
    "print(X_test)"
   ]
  },
  {
   "cell_type": "code",
   "execution_count": 24,
   "id": "307d29b0",
   "metadata": {},
   "outputs": [
    {
     "name": "stdout",
     "output_type": "stream",
     "text": [
      "[[24.0, 19000.0], [23.0, 20000.0], [35.0, 27000.0], [56.0, 104000.0], [54.0, 70000.0], [47.0, 25000.0], [35.0, 44000.0], [35.0, 25000.0], [29.0, 83000.0], [29.0, 61000.0], [35.0, 53000.0], [35.0, 57000.0], [37.0, 33000.0], [49.0, 36000.0], [42.0, 54000.0], [57.0, 60000.0], [56.0, 133000.0], [41.0, 30000.0], [58.0, 38000.0], [48.0, 131000.0], [42.0, 53000.0], [41.0, 87000.0], [38.0, 71000.0], [41.0, 63000.0], [36.0, 99000.0], [32.0, 120000.0], [20.0, 74000.0], [43.0, 129000.0], [40.0, 47000.0], [24.0, 55000.0], [44.0, 39000.0], [35.0, 77000.0], [35.0, 38000.0], [33.0, 51000.0], [25.0, 79000.0], [42.0, 80000.0], [52.0, 38000.0], [20.0, 23000.0], [40.0, 75000.0], [37.0, 55000.0], [39.0, 134000.0], [28.0, 123000.0], [21.0, 16000.0], [22.0, 55000.0], [41.0, 51000.0], [21.0, 88000.0], [48.0, 134000.0], [49.0, 141000.0], [19.0, 19000.0], [52.0, 138000.0], [38.0, 65000.0], [58.0, 101000.0], [27.0, 54000.0], [32.0, 150000.0], [59.0, 88000.0], [27.0, 137000.0], [21.0, 68000.0], [40.0, 75000.0], [36.0, 126000.0], [48.0, 33000.0], [37.0, 70000.0], [19.0, 21000.0], [42.0, 75000.0], [38.0, 50000.0], [25.0, 90000.0], [37.0, 144000.0], [31.0, 71000.0], [18.0, 44000.0], [37.0, 62000.0], [38.0, 59000.0], [29.0, 47000.0], [38.0, 113000.0], [30.0, 49000.0], [59.0, 130000.0], [24.0, 32000.0], [26.0, 30000.0], [34.0, 112000.0], [36.0, 125000.0], [53.0, 34000.0], [60.0, 42000.0], [30.0, 17000.0], [54.0, 104000.0], [30.0, 135000.0], [56.0, 60000.0], [34.0, 25000.0], [24.0, 27000.0], [58.0, 95000.0], [37.0, 71000.0], [45.0, 79000.0], [33.0, 43000.0], [41.0, 72000.0], [31.0, 15000.0], [52.0, 114000.0], [41.0, 52000.0], [36.0, 144000.0], [30.0, 87000.0], [45.0, 22000.0], [60.0, 108000.0], [47.0, 34000.0], [20.0, 36000.0]]\n"
     ]
    }
   ],
   "source": [
    "print(X_test)"
   ]
  },
  {
   "cell_type": "code",
   "execution_count": 29,
   "id": "ef9bb08c",
   "metadata": {},
   "outputs": [
    {
     "name": "stdout",
     "output_type": "stream",
     "text": [
      "Predicted labels: [0.0, 1.0, 0.0, 1.0, 0.0, 1.0, 0.0, 1.0, 0.0, 0.0, 0.0, 0.0, 0.0, 1.0, 0.0, 0.0, 1.0, 1.0, 1.0, 1.0, 0.0, 0.0, 0.0, 0.0, 1.0, 1.0, 0.0, 1.0, 0.0, 0.0, 1.0, 0.0, 1.0, 0.0, 0.0, 0.0, 1.0, 1.0, 0.0, 0.0, 1.0, 1.0, 0.0, 0.0, 0.0, 1.0, 1.0, 1.0, 0.0, 1.0, 0.0, 1.0, 0.0, 1.0, 1.0, 1.0, 0.0, 0.0, 1.0, 1.0, 0.0, 0.0, 0.0, 0.0, 1.0, 1.0, 0.0, 0.0, 0.0, 0.0, 0.0, 0.0, 0.0, 1.0, 0.0, 1.0, 0.0, 1.0, 1.0, 0.0, 0.0, 1.0, 1.0, 0.0, 1.0, 0.0, 1.0, 0.0, 0.0, 0.0, 0.0, 0.0, 0.0, 0.0, 1.0, 0.0, 0.0, 1.0, 1.0, 0.0]\n"
     ]
    }
   ],
   "source": [
    "import numpy as np\n",
    "from collections import Counter\n",
    "def euclidean_distance(x1, x2):\n",
    "    x1 = np.array(x1)\n",
    "    x2 = np.array(x2)\n",
    "    return np.sqrt(np.sum((x1 - x2) ** 2))\n",
    "class SimpleKNN:\n",
    "    def __init__(self, n_neighbors=5):\n",
    "        self.n_neighbors = n_neighbors\n",
    "    def fit(self, X_train, y_train):\n",
    "        self.X_train = X_train\n",
    "        self.y_train = y_train\n",
    "    def predict(self, X_test):\n",
    "        predictions = []\n",
    "        for test_point in X_test:\n",
    "            distances = [euclidean_distance(test_point, x_train) for x_train in self.X_train]\n",
    "        \n",
    "            k_indices = np.argsort(distances)[:self.n_neighbors]\n",
    "            \n",
    "            k_nearest_labels = [self.y_train[i] for i in k_indices]\n",
    "     \n",
    "            most_common = Counter(k_nearest_labels).most_common(1)[0][0]\n",
    "            predictions.append(most_common)\n",
    "        \n",
    "        return predictions\n",
    "classifier = SimpleKNN(n_neighbors=5)\n",
    "classifier.fit(X_train, y_train)\n",
    "y_pred = classifier.predict(X_test)\n",
    "print(\"Predicted labels:\", y_pred)\n"
   ]
  },
  {
   "cell_type": "code",
   "execution_count": 30,
   "id": "aac14a01",
   "metadata": {},
   "outputs": [
    {
     "name": "stdout",
     "output_type": "stream",
     "text": [
      "Predicted class for [30, 87000]: [0.0]\n"
     ]
    }
   ],
   "source": [
    "import numpy as np\n",
    "from collections import Counter\n",
    "def euclidean_distance(x1, x2):\n",
    "    x1 = np.array(x1)\n",
    "    x2 = np.array(x2)\n",
    "    return np.sqrt(np.sum((x1 - x2) ** 2))\n",
    "class SimpleKNN:\n",
    "    def __init__(self, n_neighbors=5):\n",
    "        self.n_neighbors = n_neighbors\n",
    "    def fit(self, X_train, y_train):\n",
    "        self.X_train = X_train\n",
    "        self.y_train = y_train\n",
    "        self.X_min = np.min(X_train, axis=0)  \n",
    "        self.X_max = np.max(X_train, axis=0)  \n",
    "    def scale(self, X):\n",
    "        return (X - self.X_min) / (self.X_max - self.X_min)\n",
    "    def predict(self, X_test):\n",
    "        predictions = []\n",
    "        for test_point in X_test:     \n",
    "            distances = [euclidean_distance(test_point, x_train) for x_train in self.X_train]\n",
    "            k_indices = np.argsort(distances)[:self.n_neighbors]     \n",
    "            k_nearest_labels = [self.y_train[i] for i in k_indices]    \n",
    "            most_common = Counter(k_nearest_labels).most_common(1)[0][0]\n",
    "            predictions.append(most_common)\n",
    "        \n",
    "        return predictions\n",
    "classifier = SimpleKNN(n_neighbors=5)\n",
    "classifier.fit(X_train, y_train)\n",
    "new_input = [[30, 87000]] \n",
    "new_input_scaled = classifier.scale(new_input)\n",
    "prediction = classifier.predict(new_input_scaled)\n",
    "print(\"Predicted class for [30, 87000]:\", prediction)\n"
   ]
  },
  {
   "cell_type": "code",
   "execution_count": 31,
   "id": "a703346b",
   "metadata": {},
   "outputs": [
    {
     "data": {
      "text/html": [
       "<style>#sk-container-id-3 {color: black;}#sk-container-id-3 pre{padding: 0;}#sk-container-id-3 div.sk-toggleable {background-color: white;}#sk-container-id-3 label.sk-toggleable__label {cursor: pointer;display: block;width: 100%;margin-bottom: 0;padding: 0.3em;box-sizing: border-box;text-align: center;}#sk-container-id-3 label.sk-toggleable__label-arrow:before {content: \"▸\";float: left;margin-right: 0.25em;color: #696969;}#sk-container-id-3 label.sk-toggleable__label-arrow:hover:before {color: black;}#sk-container-id-3 div.sk-estimator:hover label.sk-toggleable__label-arrow:before {color: black;}#sk-container-id-3 div.sk-toggleable__content {max-height: 0;max-width: 0;overflow: hidden;text-align: left;background-color: #f0f8ff;}#sk-container-id-3 div.sk-toggleable__content pre {margin: 0.2em;color: black;border-radius: 0.25em;background-color: #f0f8ff;}#sk-container-id-3 input.sk-toggleable__control:checked~div.sk-toggleable__content {max-height: 200px;max-width: 100%;overflow: auto;}#sk-container-id-3 input.sk-toggleable__control:checked~label.sk-toggleable__label-arrow:before {content: \"▾\";}#sk-container-id-3 div.sk-estimator input.sk-toggleable__control:checked~label.sk-toggleable__label {background-color: #d4ebff;}#sk-container-id-3 div.sk-label input.sk-toggleable__control:checked~label.sk-toggleable__label {background-color: #d4ebff;}#sk-container-id-3 input.sk-hidden--visually {border: 0;clip: rect(1px 1px 1px 1px);clip: rect(1px, 1px, 1px, 1px);height: 1px;margin: -1px;overflow: hidden;padding: 0;position: absolute;width: 1px;}#sk-container-id-3 div.sk-estimator {font-family: monospace;background-color: #f0f8ff;border: 1px dotted black;border-radius: 0.25em;box-sizing: border-box;margin-bottom: 0.5em;}#sk-container-id-3 div.sk-estimator:hover {background-color: #d4ebff;}#sk-container-id-3 div.sk-parallel-item::after {content: \"\";width: 100%;border-bottom: 1px solid gray;flex-grow: 1;}#sk-container-id-3 div.sk-label:hover label.sk-toggleable__label {background-color: #d4ebff;}#sk-container-id-3 div.sk-serial::before {content: \"\";position: absolute;border-left: 1px solid gray;box-sizing: border-box;top: 0;bottom: 0;left: 50%;z-index: 0;}#sk-container-id-3 div.sk-serial {display: flex;flex-direction: column;align-items: center;background-color: white;padding-right: 0.2em;padding-left: 0.2em;position: relative;}#sk-container-id-3 div.sk-item {position: relative;z-index: 1;}#sk-container-id-3 div.sk-parallel {display: flex;align-items: stretch;justify-content: center;background-color: white;position: relative;}#sk-container-id-3 div.sk-item::before, #sk-container-id-3 div.sk-parallel-item::before {content: \"\";position: absolute;border-left: 1px solid gray;box-sizing: border-box;top: 0;bottom: 0;left: 50%;z-index: -1;}#sk-container-id-3 div.sk-parallel-item {display: flex;flex-direction: column;z-index: 1;position: relative;background-color: white;}#sk-container-id-3 div.sk-parallel-item:first-child::after {align-self: flex-end;width: 50%;}#sk-container-id-3 div.sk-parallel-item:last-child::after {align-self: flex-start;width: 50%;}#sk-container-id-3 div.sk-parallel-item:only-child::after {width: 0;}#sk-container-id-3 div.sk-dashed-wrapped {border: 1px dashed gray;margin: 0 0.4em 0.5em 0.4em;box-sizing: border-box;padding-bottom: 0.4em;background-color: white;}#sk-container-id-3 div.sk-label label {font-family: monospace;font-weight: bold;display: inline-block;line-height: 1.2em;}#sk-container-id-3 div.sk-label-container {text-align: center;}#sk-container-id-3 div.sk-container {/* jupyter's `normalize.less` sets `[hidden] { display: none; }` but bootstrap.min.css set `[hidden] { display: none !important; }` so we also need the `!important` here to be able to override the default hidden behavior on the sphinx rendered scikit-learn.org. See: https://github.com/scikit-learn/scikit-learn/issues/21755 */display: inline-block !important;position: relative;}#sk-container-id-3 div.sk-text-repr-fallback {display: none;}</style><div id=\"sk-container-id-3\" class=\"sk-top-container\"><div class=\"sk-text-repr-fallback\"><pre>KNeighborsClassifier()</pre><b>In a Jupyter environment, please rerun this cell to show the HTML representation or trust the notebook. <br />On GitHub, the HTML representation is unable to render, please try loading this page with nbviewer.org.</b></div><div class=\"sk-container\" hidden><div class=\"sk-item\"><div class=\"sk-estimator sk-toggleable\"><input class=\"sk-toggleable__control sk-hidden--visually\" id=\"sk-estimator-id-3\" type=\"checkbox\" checked><label for=\"sk-estimator-id-3\" class=\"sk-toggleable__label sk-toggleable__label-arrow\">KNeighborsClassifier</label><div class=\"sk-toggleable__content\"><pre>KNeighborsClassifier()</pre></div></div></div></div></div>"
      ],
      "text/plain": [
       "KNeighborsClassifier()"
      ]
     },
     "execution_count": 31,
     "metadata": {},
     "output_type": "execute_result"
    }
   ],
   "source": [
    "from sklearn.neighbors import KNeighborsClassifier\n",
    "classifier = KNeighborsClassifier(n_neighbors = 5, metric = 'minkowski', p = 2)\n",
    "classifier.fit(X_train, y_train)"
   ]
  },
  {
   "cell_type": "code",
   "execution_count": 32,
   "id": "12bc0299",
   "metadata": {},
   "outputs": [
    {
     "name": "stdout",
     "output_type": "stream",
     "text": [
      "[[49 10]\n",
      " [10 31]]\n"
     ]
    },
    {
     "data": {
      "text/plain": [
       "0.8"
      ]
     },
     "execution_count": 32,
     "metadata": {},
     "output_type": "execute_result"
    }
   ],
   "source": [
    "from sklearn.metrics import confusion_matrix, accuracy_score\n",
    "cm = confusion_matrix(y_test, y_pred)\n",
    "print(cm)\n",
    "accuracy_score(y_test, y_pred)"
   ]
  },
  {
   "cell_type": "code",
   "execution_count": 35,
   "id": "c5e9737b",
   "metadata": {},
   "outputs": [],
   "source": [
    "from sklearn.preprocessing import StandardScaler\n",
    "sc = StandardScaler()\n",
    "X_train = sc.fit_transform(X_train)\n",
    "X_test = sc.transform(X_test)"
   ]
  },
  {
   "cell_type": "code",
   "execution_count": 36,
   "id": "849dc86f",
   "metadata": {},
   "outputs": [
    {
     "name": "stderr",
     "output_type": "stream",
     "text": [
      "C:\\Users\\ASUS\\AppData\\Local\\Temp\\ipykernel_10764\\338002537.py:10: UserWarning: *c* argument looks like a single numeric RGB or RGBA sequence, which should be avoided as value-mapping will have precedence in case its length matches with *x* & *y*.  Please use the *color* keyword-argument or provide a 2D array with a single row if you intend to specify the same RGB or RGBA value for all points.\n",
      "  plt.scatter(X_set[y_set == j, 0], X_set[y_set == j, 1], c = ListedColormap(('red', 'green'))(i), label = j)\n"
     ]
    },
    {
     "data": {
      "image/png": "[encoded data removed]",
      "text/plain": [
       "<Figure size 640x480 with 1 Axes>"
      ]
     },
     "metadata": {},
     "output_type": "display_data"
    }
   ],
   "source": [
    "from matplotlib.colors import ListedColormap\n",
    "X_set, y_set = sc.inverse_transform(X_train), y_train\n",
    "X1, X2 = np.meshgrid(np.arange(start = X_set[:, 0].min() - 10, stop = X_set[:, 0].max() + 10, step = 1),\n",
    "                     np.arange(start = X_set[:, 1].min() - 1000, stop = X_set[:, 1].max() + 1000, step = 1))\n",
    "plt.contourf(X1, X2, classifier.predict(sc.transform(np.array([X1.ravel(), X2.ravel()]).T)).reshape(X1.shape),\n",
    "             alpha = 0.75, cmap = ListedColormap(('red', 'green')))\n",
    "plt.xlim(X1.min(), X1.max())\n",
    "plt.ylim(X2.min(), X2.max())\n",
    "for i, j in enumerate(np.unique(y_set)):\n",
    "    plt.scatter(X_set[y_set == j, 0], X_set[y_set == j, 1], c = ListedColormap(('red', 'green'))(i), label = j)\n",
    "plt.title('K-NN (Training set)')\n",
    "plt.xlabel('Age')\n",
    "plt.ylabel('Estimated Salary')\n",
    "plt.legend()\n",
    "plt.show()"
   ]
  },
  {
   "cell_type": "code",
   "execution_count": null,
   "id": "66c21aac",
   "metadata": {},
   "outputs": [],
   "source": []
  }
 ],
 "metadata": {
  "kernelspec": {
   "display_name": "Python 3 (ipykernel)",
   "language": "python",
   "name": "python3"
  },
  "language_info": {
   "codemirror_mode": {
    "name": "ipython",
    "version": 3
   },
   "file_extension": ".py",
   "mimetype": "text/x-python",
   "name": "python",
   "nbconvert_exporter": "python",
   "pygments_lexer": "ipython3",
   "version": "3.11.5"
  }
 },
 "nbformat": 4,
 "nbformat_minor": 5
}
